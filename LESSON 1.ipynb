{
 "cells": [
  {
   "cell_type": "code",
   "execution_count": 1,
   "id": "fe9bff88",
   "metadata": {},
   "outputs": [
    {
     "name": "stdout",
     "output_type": "stream",
     "text": [
      "I like bananaque\n"
     ]
    }
   ],
   "source": [
    "print(\"I like bananaque\")"
   ]
  },
  {
   "cell_type": "code",
   "execution_count": 2,
   "id": "b6ea08f6",
   "metadata": {},
   "outputs": [],
   "source": [
    "#This is my first Python program."
   ]
  },
  {
   "cell_type": "code",
   "execution_count": 3,
   "id": "32718b02",
   "metadata": {},
   "outputs": [],
   "source": [
    "#Variable = A container for a value (string, integer, float, boolean)\n",
    "#           A variable behaves as if it was the value it contains"
   ]
  },
  {
   "cell_type": "code",
   "execution_count": null,
   "id": "a6546235",
   "metadata": {},
   "outputs": [
    {
     "name": "stdout",
     "output_type": "stream",
     "text": [
      "heyhey Bro\n"
     ]
    }
   ],
   "source": [
    "#This are strings.\n",
    "#           As I understood strings are composed of letters only.\n",
    "first_name = \"Bro\"\n",
    "print (f\"heyhey {first_name}\")"
   ]
  },
  {
   "cell_type": "code",
   "execution_count": 6,
   "id": "e925ad24",
   "metadata": {},
   "outputs": [],
   "source": [
    "food = \"dinakdakan\"\n",
    "email = \"jmtjavier25@gmail.com\""
   ]
  },
  {
   "cell_type": "code",
   "execution_count": 7,
   "id": "2fa10e9e",
   "metadata": {},
   "outputs": [
    {
     "name": "stdout",
     "output_type": "stream",
     "text": [
      "Please send us a receipt at jmtjavier25@gmail.com\n"
     ]
    }
   ],
   "source": [
    "print (f\"Please send us a receipt at {email}\")"
   ]
  },
  {
   "cell_type": "code",
   "execution_count": 11,
   "id": "072afc4e",
   "metadata": {},
   "outputs": [],
   "source": [
    " #Integers\n",
    "#           As I understood, integers are composed of numbers without decimal\n",
    "age = 25\n",
    "quantity = 3\n",
    "num_of_students = 30"
   ]
  },
  {
   "cell_type": "code",
   "execution_count": 14,
   "id": "9c15b953",
   "metadata": {},
   "outputs": [
    {
     "name": "stdout",
     "output_type": "stream",
     "text": [
      "Your age is 25. Your family members have 3 cats.\n",
      "Your classroom have 30 students.\n"
     ]
    }
   ],
   "source": [
    "print (f\"Your age is {age}. Your family members have {quantity} cats.\")\n",
    "print (f\"Your classroom have {num_of_students} students.\")\n"
   ]
  },
  {
   "cell_type": "code",
   "execution_count": 25,
   "id": "57ab910b",
   "metadata": {},
   "outputs": [],
   "source": [
    "#Float\n",
    "#           As I have understood, Float can contain decimals,\n",
    "\n",
    "price = 10.77\n",
    "gwa = 2.20\n",
    "distance = 3.5\n"
   ]
  },
  {
   "cell_type": "code",
   "execution_count": 26,
   "id": "3ed1a367",
   "metadata": {},
   "outputs": [
    {
     "name": "stdout",
     "output_type": "stream",
     "text": [
      "Wow your gwa is 2.2? That is awesome, I can get 10.77 for that alone!\n",
      "We have only run 3.5 kilometers.\n"
     ]
    }
   ],
   "source": [
    "print (f\"Wow your gwa is {gwa}? That is awesome, I can get {price} for that alone!\")\n",
    "print (f\"We have only run {distance} kilometers.\")"
   ]
  },
  {
   "cell_type": "code",
   "execution_count": 38,
   "id": "f6586ec9",
   "metadata": {},
   "outputs": [],
   "source": [
    "#Boolean\n",
    "#           As I've understood it, simply true or false statements. If and else response.\n",
    "is_student = True\n",
    "for_sale = False\n",
    "is_hot = False"
   ]
  },
  {
   "cell_type": "code",
   "execution_count": 40,
   "id": "6cb81819",
   "metadata": {},
   "outputs": [
    {
     "name": "stdout",
     "output_type": "stream",
     "text": [
      "You are a student. I don't think so...\n"
     ]
    }
   ],
   "source": [
    "if is_student:\n",
    "    print (\"You are a student. I don't think so...\")\n",
    "else:\n",
    "    print (\"You are kidding me...\")"
   ]
  },
  {
   "cell_type": "code",
   "execution_count": 42,
   "id": "7d8cb925",
   "metadata": {},
   "outputs": [
    {
     "name": "stdout",
     "output_type": "stream",
     "text": [
      "No, now get out of here!\n"
     ]
    }
   ],
   "source": [
    "if for_sale:\n",
    "    print (\"You have to buy this offer!\")\n",
    "else:\n",
    "    print (\"No, now get out of here!\")"
   ]
  },
  {
   "cell_type": "code",
   "execution_count": 44,
   "id": "d881cd34",
   "metadata": {},
   "outputs": [
    {
     "name": "stdout",
     "output_type": "stream",
     "text": [
      "Yes. You are.\n"
     ]
    }
   ],
   "source": [
    "if is_hot:\n",
    "    print (\"Try again next time\")\n",
    "else:\n",
    "    print (\"Yes. You are.\")"
   ]
  },
  {
   "cell_type": "code",
   "execution_count": null,
   "id": "858fa905",
   "metadata": {},
   "outputs": [],
   "source": []
  }
 ],
 "metadata": {
  "kernelspec": {
   "display_name": "Python 3",
   "language": "python",
   "name": "python3"
  },
  "language_info": {
   "codemirror_mode": {
    "name": "ipython",
    "version": 3
   },
   "file_extension": ".py",
   "mimetype": "text/x-python",
   "name": "python",
   "nbconvert_exporter": "python",
   "pygments_lexer": "ipython3",
   "version": "3.11.9"
  }
 },
 "nbformat": 4,
 "nbformat_minor": 5
}
